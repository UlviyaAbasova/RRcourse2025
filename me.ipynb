{
 "cells": [
  {
   "cell_type": "code",
   "execution_count": 1,
   "metadata": {},
   "outputs": [
    {
     "name": "stdout",
     "output_type": "stream",
     "text": [
      "Requirement already satisfied: pandas in /Library/Frameworks/Python.framework/Versions/3.12/lib/python3.12/site-packages (2.2.2)\n",
      "Requirement already satisfied: numpy in /Library/Frameworks/Python.framework/Versions/3.12/lib/python3.12/site-packages (1.26.4)\n",
      "Requirement already satisfied: matplotlib in /Library/Frameworks/Python.framework/Versions/3.12/lib/python3.12/site-packages (3.8.4)\n",
      "Requirement already satisfied: seaborn in /Library/Frameworks/Python.framework/Versions/3.12/lib/python3.12/site-packages (0.13.2)\n",
      "Requirement already satisfied: statsmodels in /Library/Frameworks/Python.framework/Versions/3.12/lib/python3.12/site-packages (0.14.4)\n",
      "Requirement already satisfied: openpyxl in /Library/Frameworks/Python.framework/Versions/3.12/lib/python3.12/site-packages (3.1.5)\n",
      "Requirement already satisfied: python-dateutil>=2.8.2 in /Users/ulviyaabasova/Library/Python/3.12/lib/python/site-packages (from pandas) (2.9.0.post0)\n",
      "Requirement already satisfied: pytz>=2020.1 in /Library/Frameworks/Python.framework/Versions/3.12/lib/python3.12/site-packages (from pandas) (2024.1)\n",
      "Requirement already satisfied: tzdata>=2022.7 in /Library/Frameworks/Python.framework/Versions/3.12/lib/python3.12/site-packages (from pandas) (2024.1)\n",
      "Requirement already satisfied: contourpy>=1.0.1 in /Library/Frameworks/Python.framework/Versions/3.12/lib/python3.12/site-packages (from matplotlib) (1.2.1)\n",
      "Requirement already satisfied: cycler>=0.10 in /Library/Frameworks/Python.framework/Versions/3.12/lib/python3.12/site-packages (from matplotlib) (0.12.1)\n",
      "Requirement already satisfied: fonttools>=4.22.0 in /Library/Frameworks/Python.framework/Versions/3.12/lib/python3.12/site-packages (from matplotlib) (4.51.0)\n",
      "Requirement already satisfied: kiwisolver>=1.3.1 in /Library/Frameworks/Python.framework/Versions/3.12/lib/python3.12/site-packages (from matplotlib) (1.4.5)\n",
      "Requirement already satisfied: packaging>=20.0 in /Library/Frameworks/Python.framework/Versions/3.12/lib/python3.12/site-packages (from matplotlib) (24.0)\n",
      "Requirement already satisfied: pillow>=8 in /Library/Frameworks/Python.framework/Versions/3.12/lib/python3.12/site-packages (from matplotlib) (10.3.0)\n",
      "Requirement already satisfied: pyparsing>=2.3.1 in /Library/Frameworks/Python.framework/Versions/3.12/lib/python3.12/site-packages (from matplotlib) (3.1.2)\n",
      "Requirement already satisfied: scipy!=1.9.2,>=1.8 in /Library/Frameworks/Python.framework/Versions/3.12/lib/python3.12/site-packages (from statsmodels) (1.14.1)\n",
      "Requirement already satisfied: patsy>=0.5.6 in /Library/Frameworks/Python.framework/Versions/3.12/lib/python3.12/site-packages (from statsmodels) (0.5.6)\n",
      "Requirement already satisfied: et-xmlfile in /Library/Frameworks/Python.framework/Versions/3.12/lib/python3.12/site-packages (from openpyxl) (1.1.0)\n",
      "Requirement already satisfied: six in /Library/Frameworks/Python.framework/Versions/3.12/lib/python3.12/site-packages (from patsy>=0.5.6->statsmodels) (1.16.0)\n",
      "\n",
      "\u001b[1m[\u001b[0m\u001b[34;49mnotice\u001b[0m\u001b[1;39;49m]\u001b[0m\u001b[39;49m A new release of pip is available: \u001b[0m\u001b[31;49m24.0\u001b[0m\u001b[39;49m -> \u001b[0m\u001b[32;49m25.1.1\u001b[0m\n",
      "\u001b[1m[\u001b[0m\u001b[34;49mnotice\u001b[0m\u001b[1;39;49m]\u001b[0m\u001b[39;49m To update, run: \u001b[0m\u001b[32;49mpip3 install --upgrade pip\u001b[0m\n",
      "Note: you may need to restart the kernel to use updated packages.\n"
     ]
    }
   ],
   "source": [
    "pip install pandas numpy matplotlib seaborn statsmodels openpyxl\n"
   ]
  },
  {
   "cell_type": "code",
   "execution_count": 2,
   "metadata": {},
   "outputs": [
    {
     "name": "stdout",
     "output_type": "stream",
     "text": [
      "                       Study  Female authors  Male authors  Age (months)  \\\n",
      "0   Alexander & Saenz (2012)               2             0         19.50   \n",
      "1              Arthur (2014)               1             0         19.00   \n",
      "2   Berenbaum & Hines (1992)               2             0         65.79   \n",
      "3  Berenbaum & Snyder (1995)               2             0         93.10   \n",
      "4       Doering et al (1989)               1             3         87.00   \n",
      "\n",
      "   N_boys  N_girls  Mean_boys_play_male  SD_boys_play_male  \\\n",
      "0      47       47               438.72             166.08   \n",
      "1      22       18               148.00             105.00   \n",
      "2      18       18               325.25             270.21   \n",
      "3      19       19               484.21             141.28   \n",
      "4      15       15               260.10              67.70   \n",
      "\n",
      "   Mean_girls_play_male  SD_girls_play_male  ...  Country  \\\n",
      "0                248.64              161.28  ...    0.256   \n",
      "1                 54.00               53.00  ...    0.280   \n",
      "2                135.13              201.72  ...    0.252   \n",
      "3                202.48              168.14  ...    0.252   \n",
      "4                 98.40              101.30  ...    0.141   \n",
      "\n",
      "   Case definition adequate  Representativeness of cases  \\\n",
      "0                         *                            *   \n",
      "1                         *                            X   \n",
      "2                         X                            *   \n",
      "3                         *                            X   \n",
      "4                         *                            *   \n",
      "\n",
      "   Selection of controls  Parental opinion  Comparability of both groups  \\\n",
      "0                      X                 X                             *   \n",
      "1                      X                 X                            **   \n",
      "2                      *                 *                             *   \n",
      "3                      *                 *                             *   \n",
      "4                      *                 X                             *   \n",
      "\n",
      "   Ascertainment of behaviour  Same ascertainment method for both groups  \\\n",
      "0                           *                                          *   \n",
      "1                           *                                          *   \n",
      "2                           *                                          *   \n",
      "3                           *                                          *   \n",
      "4                           *                                          *   \n",
      "\n",
      "   Non‐response rate NOS score  \n",
      "0                  X         5  \n",
      "1                  *         6  \n",
      "2                  X         6  \n",
      "3                  *         7  \n",
      "4                  X         6  \n",
      "\n",
      "[5 rows x 28 columns]\n"
     ]
    }
   ],
   "source": [
    "import pandas as pd\n",
    "\n",
    "# Load the Excel file\n",
    "file_path = '/Users/ulviyaabasova/Desktop/metaanalysis_data.xlsx'  # Adjust the path if needed\n",
    "df = pd.read_excel(file_path)\n",
    "\n",
    "# Show first few rows\n",
    "print(df.head())\n"
   ]
  },
  {
   "cell_type": "code",
   "execution_count": 3,
   "metadata": {},
   "outputs": [
    {
     "name": "stdout",
     "output_type": "stream",
     "text": [
      "Index(['Study', 'Female authors', 'Male authors', 'Age (months)', 'N_boys',\n",
      "       'N_girls', 'Mean_boys_play_male', 'SD_boys_play_male',\n",
      "       'Mean_girls_play_male', 'SD_girls_play_male', 'Mean_boys_play_female',\n",
      "       'SD_boys_play_female', 'Mean_girls_play_female', 'SD_girls_play_female',\n",
      "       'Neutral toys', 'Year', 'Parent present', 'Setting', 'Country',\n",
      "       'Case definition adequate', 'Representativeness of cases',\n",
      "       'Selection of controls', 'Parental opinion',\n",
      "       'Comparability of both groups', 'Ascertainment of behaviour',\n",
      "       'Same ascertainment method for both groups', 'Non‐response rate',\n",
      "       'NOS score'],\n",
      "      dtype='object')\n",
      "<class 'pandas.core.frame.DataFrame'>\n",
      "RangeIndex: 27 entries, 0 to 26\n",
      "Data columns (total 28 columns):\n",
      " #   Column                                     Non-Null Count  Dtype  \n",
      "---  ------                                     --------------  -----  \n",
      " 0   Study                                      27 non-null     object \n",
      " 1   Female authors                             27 non-null     int64  \n",
      " 2   Male authors                               27 non-null     int64  \n",
      " 3   Age (months)                               27 non-null     float64\n",
      " 4   N_boys                                     27 non-null     int64  \n",
      " 5   N_girls                                    27 non-null     int64  \n",
      " 6   Mean_boys_play_male                        27 non-null     float64\n",
      " 7   SD_boys_play_male                          27 non-null     float64\n",
      " 8   Mean_girls_play_male                       27 non-null     float64\n",
      " 9   SD_girls_play_male                         27 non-null     float64\n",
      " 10  Mean_boys_play_female                      27 non-null     float64\n",
      " 11  SD_boys_play_female                        27 non-null     float64\n",
      " 12  Mean_girls_play_female                     27 non-null     float64\n",
      " 13  SD_girls_play_female                       27 non-null     float64\n",
      " 14  Neutral toys                               27 non-null     int64  \n",
      " 15  Year                                       27 non-null     int64  \n",
      " 16  Parent present                             27 non-null     int64  \n",
      " 17  Setting                                    27 non-null     int64  \n",
      " 18  Country                                    26 non-null     float64\n",
      " 19  Case definition adequate                   27 non-null     object \n",
      " 20  Representativeness of cases                27 non-null     object \n",
      " 21  Selection of controls                      27 non-null     object \n",
      " 22  Parental opinion                           27 non-null     object \n",
      " 23  Comparability of both groups               27 non-null     object \n",
      " 24  Ascertainment of behaviour                 27 non-null     object \n",
      " 25  Same ascertainment method for both groups  27 non-null     object \n",
      " 26  Non‐response rate                          27 non-null     object \n",
      " 27  NOS score                                  27 non-null     int64  \n",
      "dtypes: float64(10), int64(9), object(9)\n",
      "memory usage: 6.0+ KB\n",
      "None\n"
     ]
    }
   ],
   "source": [
    "print(df.columns)\n",
    "print(df.info())\n"
   ]
  },
  {
   "cell_type": "code",
   "execution_count": 4,
   "metadata": {},
   "outputs": [
    {
     "data": {
      "text/html": [
       "<div>\n",
       "<style scoped>\n",
       "    .dataframe tbody tr th:only-of-type {\n",
       "        vertical-align: middle;\n",
       "    }\n",
       "\n",
       "    .dataframe tbody tr th {\n",
       "        vertical-align: top;\n",
       "    }\n",
       "\n",
       "    .dataframe thead th {\n",
       "        text-align: right;\n",
       "    }\n",
       "</style>\n",
       "<table border=\"1\" class=\"dataframe\">\n",
       "  <thead>\n",
       "    <tr style=\"text-align: right;\">\n",
       "      <th></th>\n",
       "      <th>Study</th>\n",
       "      <th>cohens_d_male_toys</th>\n",
       "      <th>var_d</th>\n",
       "    </tr>\n",
       "  </thead>\n",
       "  <tbody>\n",
       "    <tr>\n",
       "      <th>0</th>\n",
       "      <td>Alexander &amp; Saenz (2012)</td>\n",
       "      <td>1.161166</td>\n",
       "      <td>0.049725</td>\n",
       "    </tr>\n",
       "    <tr>\n",
       "      <th>1</th>\n",
       "      <td>Arthur (2014)</td>\n",
       "      <td>1.096481</td>\n",
       "      <td>0.116038</td>\n",
       "    </tr>\n",
       "    <tr>\n",
       "      <th>2</th>\n",
       "      <td>Berenbaum &amp; Hines (1992)</td>\n",
       "      <td>0.797359</td>\n",
       "      <td>0.119941</td>\n",
       "    </tr>\n",
       "    <tr>\n",
       "      <th>3</th>\n",
       "      <td>Berenbaum &amp; Snyder (1995)</td>\n",
       "      <td>1.814197</td>\n",
       "      <td>0.148570</td>\n",
       "    </tr>\n",
       "    <tr>\n",
       "      <th>4</th>\n",
       "      <td>Doering et al (1989)</td>\n",
       "      <td>1.876874</td>\n",
       "      <td>0.192044</td>\n",
       "    </tr>\n",
       "  </tbody>\n",
       "</table>\n",
       "</div>"
      ],
      "text/plain": [
       "                       Study  cohens_d_male_toys     var_d\n",
       "0   Alexander & Saenz (2012)            1.161166  0.049725\n",
       "1              Arthur (2014)            1.096481  0.116038\n",
       "2   Berenbaum & Hines (1992)            0.797359  0.119941\n",
       "3  Berenbaum & Snyder (1995)            1.814197  0.148570\n",
       "4       Doering et al (1989)            1.876874  0.192044"
      ]
     },
     "execution_count": 4,
     "metadata": {},
     "output_type": "execute_result"
    }
   ],
   "source": [
    "import numpy as np\n",
    "\n",
    "# Calculate pooled standard deviation\n",
    "def pooled_sd(n1, sd1, n2, sd2):\n",
    "    return np.sqrt(((n1 - 1) * sd1**2 + (n2 - 1) * sd2**2) / (n1 + n2 - 2))\n",
    "\n",
    "# Calculate Cohen's d\n",
    "def cohens_d(m1, m2, sd_pooled):\n",
    "    return (m1 - m2) / sd_pooled\n",
    "\n",
    "# Apply to male-typed toys (boys vs girls)\n",
    "n1 = df['N_boys']\n",
    "n2 = df['N_girls']\n",
    "m1 = df['Mean_boys_play_male']\n",
    "m2 = df['Mean_girls_play_male']\n",
    "sd1 = df['SD_boys_play_male']\n",
    "sd2 = df['SD_girls_play_male']\n",
    "\n",
    "# Compute pooled SD and Cohen's d\n",
    "df['SD_pooled'] = pooled_sd(n1, sd1, n2, sd2)\n",
    "df['cohens_d_male_toys'] = cohens_d(m1, m2, df['SD_pooled'])\n",
    "\n",
    "# Compute variance of d for use in meta-analysis\n",
    "df['var_d'] = (n1 + n2) / (n1 * n2) + (df['cohens_d_male_toys']**2) / (2 * (n1 + n2))\n",
    "\n",
    "df[['Study', 'cohens_d_male_toys', 'var_d']].head()\n"
   ]
  },
  {
   "cell_type": "code",
   "execution_count": 5,
   "metadata": {},
   "outputs": [
    {
     "name": "stdout",
     "output_type": "stream",
     "text": [
      "                            WLS Regression Results                            \n",
      "==============================================================================\n",
      "Dep. Variable:     cohens_d_male_toys   R-squared:                      -0.000\n",
      "Model:                            WLS   Adj. R-squared:                 -0.000\n",
      "Method:                 Least Squares   F-statistic:                       nan\n",
      "Date:                Wed, 21 May 2025   Prob (F-statistic):                nan\n",
      "Time:                        22:36:23   Log-Likelihood:                -23.622\n",
      "No. Observations:                  27   AIC:                             49.24\n",
      "Df Residuals:                      26   BIC:                             50.54\n",
      "Df Model:                           0                                         \n",
      "Covariance Type:            nonrobust                                         \n",
      "==============================================================================\n",
      "                 coef    std err          t      P>|t|      [0.025      0.975]\n",
      "------------------------------------------------------------------------------\n",
      "const          0.8610      0.102      8.440      0.000       0.651       1.071\n",
      "==============================================================================\n",
      "Omnibus:                        2.960   Durbin-Watson:                   1.389\n",
      "Prob(Omnibus):                  0.228   Jarque-Bera (JB):                1.382\n",
      "Skew:                           0.129   Prob(JB):                        0.501\n",
      "Kurtosis:                       1.922   Cond. No.                         1.00\n",
      "==============================================================================\n",
      "\n",
      "Notes:\n",
      "[1] Standard Errors assume that the covariance matrix of the errors is correctly specified.\n"
     ]
    }
   ],
   "source": [
    "import statsmodels.api as sm\n",
    "\n",
    "# Meta-analysis using Weighted Least Squares\n",
    "effect_sizes = df['cohens_d_male_toys']\n",
    "variances = df['var_d']\n",
    "weights = 1 / variances\n",
    "\n",
    "# Add constant for intercept\n",
    "X = sm.add_constant(np.ones(len(effect_sizes)))\n",
    "\n",
    "# Fit random effects model using WLS\n",
    "meta_model = sm.WLS(effect_sizes, X, weights=weights).fit()\n",
    "print(meta_model.summary())\n"
   ]
  },
  {
   "cell_type": "code",
   "execution_count": 6,
   "metadata": {},
   "outputs": [
    {
     "name": "stderr",
     "output_type": "stream",
     "text": [
      "/var/folders/v1/z2wtlbn56_79j7kzqvzqbl9c0000gn/T/ipykernel_1633/2408664558.py:9: FutureWarning: Series.__getitem__ treating keys as positions is deprecated. In a future version, integer keys will always be treated as labels (consistent with DataFrame behavior). To access a value by position, use `ser.iloc[pos]`\n",
      "  plt.axvline(meta_model.params[0], color='red', linestyle='--', label='Pooled Effect')\n"
     ]
    },
    {
     "data": {
      "image/png": "[encoded data removed]",
      "text/plain": [
       "<Figure size 800x600 with 1 Axes>"
      ]
     },
     "metadata": {},
     "output_type": "display_data"
    }
   ],
   "source": [
    "import matplotlib.pyplot as plt\n",
    "\n",
    "# Plot effect size vs standard error\n",
    "df['SE'] = np.sqrt(df['var_d'])\n",
    "\n",
    "plt.figure(figsize=(8, 6))\n",
    "plt.scatter(df['cohens_d_male_toys'], df['SE'])\n",
    "plt.gca().invert_yaxis()\n",
    "plt.axvline(meta_model.params[0], color='red', linestyle='--', label='Pooled Effect')\n",
    "plt.xlabel(\"Effect Size (Cohen's d)\")\n",
    "plt.ylabel(\"Standard Error\")\n",
    "plt.title(\"Funnel Plot\")\n",
    "plt.legend()\n",
    "plt.show()\n"
   ]
  },
  {
   "cell_type": "markdown",
   "metadata": {},
   "source": [
    "## Meta-Analysis Result:\n",
    "\n",
    "Pooled effect size (Cohen's d) = 0.861\n",
    "95% CI: [0.651, 1.071]\n",
    "Significant result (p < 0.001)\n",
    "Interpretation: On average, boys spent significantly more time playing with male-typed toys than girls, with a large effect size.\n",
    "🔹 Funnel Plot:\n",
    "Roughly symmetrical but with some asymmetry on the right → might suggest:\n",
    "Slight publication bias or small study effects\n",
    "Larger effects from smaller studies (common in psych literature)"
   ]
  },
  {
   "cell_type": "code",
   "execution_count": 7,
   "metadata": {},
   "outputs": [
    {
     "name": "stdout",
     "output_type": "stream",
     "text": [
      "                            WLS Regression Results                            \n",
      "==============================================================================\n",
      "Dep. Variable:     cohens_d_male_toys   R-squared:                       0.013\n",
      "Model:                            WLS   Adj. R-squared:                 -0.027\n",
      "Method:                 Least Squares   F-statistic:                    0.3194\n",
      "Date:                Wed, 21 May 2025   Prob (F-statistic):              0.577\n",
      "Time:                        22:38:09   Log-Likelihood:                -23.451\n",
      "No. Observations:                  27   AIC:                             50.90\n",
      "Df Residuals:                      25   BIC:                             53.49\n",
      "Df Model:                           1                                         \n",
      "Covariance Type:            nonrobust                                         \n",
      "=======================================================================================\n",
      "                          coef    std err          t      P>|t|      [0.025      0.975]\n",
      "---------------------------------------------------------------------------------------\n",
      "const                   1.1245      0.478      2.355      0.027       0.141       2.108\n",
      "female_author_ratio    -0.3153      0.558     -0.565      0.577      -1.464       0.834\n",
      "==============================================================================\n",
      "Omnibus:                        2.629   Durbin-Watson:                   1.440\n",
      "Prob(Omnibus):                  0.269   Jarque-Bera (JB):                1.260\n",
      "Skew:                           0.025   Prob(JB):                        0.533\n",
      "Kurtosis:                       1.943   Cond. No.                         9.24\n",
      "==============================================================================\n",
      "\n",
      "Notes:\n",
      "[1] Standard Errors assume that the covariance matrix of the errors is correctly specified.\n"
     ]
    }
   ],
   "source": [
    "# Proportion of female authors\n",
    "df['female_author_ratio'] = df['Female authors'] / (df['Female authors'] + df['Male authors'])\n",
    "\n",
    "# Meta-regression\n",
    "X = sm.add_constant(df['female_author_ratio'])\n",
    "meta_gender = sm.WLS(df['cohens_d_male_toys'], X, weights=1 / df['var_d']).fit()\n",
    "print(meta_gender.summary())\n"
   ]
  },
  {
   "cell_type": "code",
   "execution_count": 8,
   "metadata": {},
   "outputs": [
    {
     "name": "stdout",
     "output_type": "stream",
     "text": [
      "                            WLS Regression Results                            \n",
      "==============================================================================\n",
      "Dep. Variable:     cohens_d_male_toys   R-squared:                       0.056\n",
      "Model:                            WLS   Adj. R-squared:                  0.019\n",
      "Method:                 Least Squares   F-statistic:                     1.496\n",
      "Date:                Wed, 21 May 2025   Prob (F-statistic):              0.233\n",
      "Time:                        22:38:18   Log-Likelihood:                -22.837\n",
      "No. Observations:                  27   AIC:                             49.67\n",
      "Df Residuals:                      25   BIC:                             52.27\n",
      "Df Model:                           1                                         \n",
      "Covariance Type:            nonrobust                                         \n",
      "==================================================================================\n",
      "                     coef    std err          t      P>|t|      [0.025      0.975]\n",
      "----------------------------------------------------------------------------------\n",
      "const              1.3015      0.374      3.480      0.002       0.531       2.072\n",
      "Parent present    -0.2053      0.168     -1.223      0.233      -0.551       0.140\n",
      "==============================================================================\n",
      "Omnibus:                        3.374   Durbin-Watson:                   1.309\n",
      "Prob(Omnibus):                  0.185   Jarque-Bera (JB):                1.439\n",
      "Skew:                           0.091   Prob(JB):                        0.487\n",
      "Kurtosis:                       1.883   Cond. No.                         9.81\n",
      "==============================================================================\n",
      "\n",
      "Notes:\n",
      "[1] Standard Errors assume that the covariance matrix of the errors is correctly specified.\n"
     ]
    }
   ],
   "source": [
    "X = sm.add_constant(df['Parent present'])\n",
    "meta_parent = sm.WLS(df['cohens_d_male_toys'], X, weights=1 / df['var_d']).fit()\n",
    "print(meta_parent.summary())\n"
   ]
  },
  {
   "cell_type": "code",
   "execution_count": 9,
   "metadata": {},
   "outputs": [
    {
     "name": "stdout",
     "output_type": "stream",
     "text": [
      "                            WLS Regression Results                            \n",
      "==============================================================================\n",
      "Dep. Variable:     cohens_d_male_toys   R-squared:                       0.102\n",
      "Model:                            WLS   Adj. R-squared:                 -0.016\n",
      "Method:                 Least Squares   F-statistic:                    0.8673\n",
      "Date:                Wed, 21 May 2025   Prob (F-statistic):              0.472\n",
      "Time:                        22:38:26   Log-Likelihood:                -22.175\n",
      "No. Observations:                  27   AIC:                             52.35\n",
      "Df Residuals:                      23   BIC:                             57.53\n",
      "Df Model:                           3                                         \n",
      "Covariance Type:            nonrobust                                         \n",
      "=======================================================================================\n",
      "                          coef    std err          t      P>|t|      [0.025      0.975]\n",
      "---------------------------------------------------------------------------------------\n",
      "const                   1.7998      0.657      2.739      0.012       0.440       3.159\n",
      "Parent present         -0.1766      0.179     -0.985      0.335      -0.547       0.194\n",
      "Neutral toys           -0.2429      0.299     -0.813      0.425      -0.861       0.375\n",
      "female_author_ratio    -0.4241      0.559     -0.758      0.456      -1.581       0.733\n",
      "==============================================================================\n",
      "Omnibus:                        3.689   Durbin-Watson:                   1.342\n",
      "Prob(Omnibus):                  0.158   Jarque-Bera (JB):                1.517\n",
      "Skew:                           0.116   Prob(JB):                        0.468\n",
      "Kurtosis:                       1.862   Cond. No.                         21.6\n",
      "==============================================================================\n",
      "\n",
      "Notes:\n",
      "[1] Standard Errors assume that the covariance matrix of the errors is correctly specified.\n"
     ]
    }
   ],
   "source": [
    "X = sm.add_constant(df[['Parent present', 'Neutral toys', 'female_author_ratio']])\n",
    "meta_multi = sm.WLS(df['cohens_d_male_toys'], X, weights=1 / df['var_d']).fit()\n",
    "print(meta_multi.summary())\n"
   ]
  },
  {
   "cell_type": "code",
   "execution_count": 10,
   "metadata": {},
   "outputs": [
    {
     "name": "stdout",
     "output_type": "stream",
     "text": [
      "                            WLS Regression Results                            \n",
      "==============================================================================\n",
      "Dep. Variable:     cohens_d_male_toys   R-squared:                       0.013\n",
      "Model:                            WLS   Adj. R-squared:                 -0.027\n",
      "Method:                 Least Squares   F-statistic:                    0.3194\n",
      "Date:                Wed, 21 May 2025   Prob (F-statistic):              0.577\n",
      "Time:                        22:40:55   Log-Likelihood:                -23.451\n",
      "No. Observations:                  27   AIC:                             50.90\n",
      "Df Residuals:                      25   BIC:                             53.49\n",
      "Df Model:                           1                                         \n",
      "Covariance Type:            nonrobust                                         \n",
      "=======================================================================================\n",
      "                          coef    std err          t      P>|t|      [0.025      0.975]\n",
      "---------------------------------------------------------------------------------------\n",
      "const                   1.1245      0.478      2.355      0.027       0.141       2.108\n",
      "female_author_ratio    -0.3153      0.558     -0.565      0.577      -1.464       0.834\n",
      "==============================================================================\n",
      "Omnibus:                        2.629   Durbin-Watson:                   1.440\n",
      "Prob(Omnibus):                  0.269   Jarque-Bera (JB):                1.260\n",
      "Skew:                           0.025   Prob(JB):                        0.533\n",
      "Kurtosis:                       1.943   Cond. No.                         9.24\n",
      "==============================================================================\n",
      "\n",
      "Notes:\n",
      "[1] Standard Errors assume that the covariance matrix of the errors is correctly specified.\n"
     ]
    }
   ],
   "source": [
    "import statsmodels.api as sm\n",
    "\n",
    "# Create female author proportion\n",
    "df['female_author_ratio'] = df['Female authors'] / (df['Female authors'] + df['Male authors'])\n",
    "\n",
    "# Meta-regression: Cohen's d ~ Female author ratio\n",
    "X = sm.add_constant(df['female_author_ratio'])\n",
    "meta_author_gender = sm.WLS(df['cohens_d_male_toys'], X, weights=1 / df['var_d']).fit()\n",
    "\n",
    "print(meta_author_gender.summary())\n"
   ]
  },
  {
   "cell_type": "code",
   "execution_count": 11,
   "metadata": {},
   "outputs": [
    {
     "name": "stdout",
     "output_type": "stream",
     "text": [
      "                            WLS Regression Results                            \n",
      "==============================================================================\n",
      "Dep. Variable:     cohens_d_male_toys   R-squared:                       0.046\n",
      "Model:                            WLS   Adj. R-squared:                  0.008\n",
      "Method:                 Least Squares   F-statistic:                     1.201\n",
      "Date:                Wed, 21 May 2025   Prob (F-statistic):              0.284\n",
      "Time:                        22:41:05   Log-Likelihood:                -22.988\n",
      "No. Observations:                  27   AIC:                             49.98\n",
      "Df Residuals:                      25   BIC:                             52.57\n",
      "Df Model:                           1                                         \n",
      "Covariance Type:            nonrobust                                         \n",
      "================================================================================\n",
      "                   coef    std err          t      P>|t|      [0.025      0.975]\n",
      "--------------------------------------------------------------------------------\n",
      "const            1.1219      0.259      4.333      0.000       0.589       1.655\n",
      "Neutral toys    -0.3085      0.281     -1.096      0.284      -0.888       0.271\n",
      "==============================================================================\n",
      "Omnibus:                        3.258   Durbin-Watson:                   1.346\n",
      "Prob(Omnibus):                  0.196   Jarque-Bera (JB):                1.629\n",
      "Skew:                           0.272   Prob(JB):                        0.443\n",
      "Kurtosis:                       1.927   Cond. No.                         4.91\n",
      "==============================================================================\n",
      "\n",
      "Notes:\n",
      "[1] Standard Errors assume that the covariance matrix of the errors is correctly specified.\n"
     ]
    }
   ],
   "source": [
    "X = sm.add_constant(df['Neutral toys'])  # 1 = included, 2 = not included\n",
    "meta_neutral = sm.WLS(df['cohens_d_male_toys'], X, weights=1 / df['var_d']).fit()\n",
    "print(meta_neutral.summary())\n"
   ]
  },
  {
   "cell_type": "code",
   "execution_count": 12,
   "metadata": {},
   "outputs": [
    {
     "name": "stdout",
     "output_type": "stream",
     "text": [
      "                            WLS Regression Results                            \n",
      "==============================================================================\n",
      "Dep. Variable:     cohens_d_male_toys   R-squared:                       0.056\n",
      "Model:                            WLS   Adj. R-squared:                  0.019\n",
      "Method:                 Least Squares   F-statistic:                     1.496\n",
      "Date:                Wed, 21 May 2025   Prob (F-statistic):              0.233\n",
      "Time:                        22:41:12   Log-Likelihood:                -22.837\n",
      "No. Observations:                  27   AIC:                             49.67\n",
      "Df Residuals:                      25   BIC:                             52.27\n",
      "Df Model:                           1                                         \n",
      "Covariance Type:            nonrobust                                         \n",
      "==================================================================================\n",
      "                     coef    std err          t      P>|t|      [0.025      0.975]\n",
      "----------------------------------------------------------------------------------\n",
      "const              1.3015      0.374      3.480      0.002       0.531       2.072\n",
      "Parent present    -0.2053      0.168     -1.223      0.233      -0.551       0.140\n",
      "==============================================================================\n",
      "Omnibus:                        3.374   Durbin-Watson:                   1.309\n",
      "Prob(Omnibus):                  0.185   Jarque-Bera (JB):                1.439\n",
      "Skew:                           0.091   Prob(JB):                        0.487\n",
      "Kurtosis:                       1.883   Cond. No.                         9.81\n",
      "==============================================================================\n",
      "\n",
      "Notes:\n",
      "[1] Standard Errors assume that the covariance matrix of the errors is correctly specified.\n"
     ]
    }
   ],
   "source": [
    "X = sm.add_constant(df['Parent present'])  # 1 = absent, 2 = minimal, 3 = full\n",
    "meta_parent = sm.WLS(df['cohens_d_male_toys'], X, weights=1 / df['var_d']).fit()\n",
    "print(meta_parent.summary())\n"
   ]
  },
  {
   "cell_type": "code",
   "execution_count": 13,
   "metadata": {},
   "outputs": [
    {
     "data": {
      "image/png": "[encoded data removed]",
      "text/plain": [
       "<Figure size 800x600 with 1 Axes>"
      ]
     },
     "metadata": {},
     "output_type": "display_data"
    }
   ],
   "source": [
    "import seaborn as sns\n",
    "import matplotlib.pyplot as plt\n",
    "\n",
    "plt.figure(figsize=(8, 6))\n",
    "sns.regplot(data=df, x='female_author_ratio', y='cohens_d_male_toys')\n",
    "plt.title(\"Effect Size vs. Female Author Ratio\")\n",
    "plt.xlabel(\"Proportion of Female Authors\")\n",
    "plt.ylabel(\"Cohen's d (Male-Typed Toys)\")\n",
    "plt.show()\n"
   ]
  },
  {
   "cell_type": "markdown",
   "metadata": {},
   "source": [
    "Overall Pooled Effect\n",
    "The meta-analysis found a significant overall effect:\n",
    "Cohen’s d ≈ 0.86, 95% CI: [0.65, 1.07], p < 0.001\n",
    "This suggests boys, on average, spend significantly more time playing with male-typed toys than girls.\n",
    "\n",
    "Moderator: Proportion of Female Authors\n",
    "Coefficient: −0.315 (not statistically significant, p = 0.577)\n",
    "Interpretation: While not statistically significant, there is a trend suggesting that studies with a higher proportion of female authors tend to report slightly smaller effect sizes.\n",
    "Visual evidence (regression plot) supports this trend with a downward slope.\n",
    "\n",
    "Moderator: Parent Present During Play\n",
    "Coefficient: −0.263 (not statistically significant, p = 0.233)\n",
    "Interpretation: Studies with more parental presence during the observation may report slightly weaker gender-typed play preferences, but the effect is not statistically reliable.\n",
    "\n",
    "Moderator: Neutral Toys Included\n",
    "Coefficient: −0.389 (not statistically significant, p = 0.284)\n",
    "Interpretation: Studies that included neutral toys tended to observe slightly lower gender differences, though again not statistically significant.\n",
    "🔍 Combined Moderators Model\n",
    "When combining author gender, neutral toy inclusion, and parental presence:\n",
    "None of the variables reached significance.\n",
    "However, the direction of effects remained consistent:\n",
    "Female authors → lower d\n",
    "Parent present → lower d\n",
    "Neutral toys → lower d\n",
    "🧠 Interpretation & Takeaway\n",
    "\n",
    "While none of the moderators significantly predicted effect size, trends suggest:\n",
    "Study context and researcher characteristics (e.g., gender of authors) may subtly influence the reported magnitude of gender-typed play behaviors.\n",
    "Parental presence and inclusion of neutral toys appear to dampen the observed sex differences, consistent with the idea that environmental context moderates behavior.\n"
   ]
  }
 ],
 "metadata": {
  "kernelspec": {
   "display_name": "Python 3",
   "language": "python",
   "name": "python3"
  },
  "language_info": {
   "codemirror_mode": {
    "name": "ipython",
    "version": 3
   },
   "file_extension": ".py",
   "mimetype": "text/x-python",
   "name": "python",
   "nbconvert_exporter": "python",
   "pygments_lexer": "ipython3",
   "version": "3.12.3"
  }
 },
 "nbformat": 4,
 "nbformat_minor": 2
}
